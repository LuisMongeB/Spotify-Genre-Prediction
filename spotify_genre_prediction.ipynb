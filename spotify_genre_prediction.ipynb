{
  "nbformat": 4,
  "nbformat_minor": 0,
  "metadata": {
    "colab": {
      "name": "spotify-genre-prediction.ipynb",
      "provenance": [],
      "collapsed_sections": [],
      "toc_visible": true,
      "include_colab_link": true
    },
    "kernelspec": {
      "display_name": "Python 3 (Spyder)",
      "language": "python3",
      "name": "python3"
    },
    "language_info": {
      "codemirror_mode": {
        "name": "ipython",
        "version": 3
      },
      "file_extension": ".py",
      "mimetype": "text/x-python",
      "name": "python",
      "nbconvert_exporter": "python",
      "pygments_lexer": "ipython3",
      "version": "3.8.3"
    }
  },
  "cells": [
    {
      "cell_type": "markdown",
      "metadata": {
        "id": "view-in-github",
        "colab_type": "text"
      },
      "source": [
        "<a href=\"https://colab.research.google.com/github/LuisMongeB/Spotify-Genre-Prediction/blob/main/spotify_genre_prediction.ipynb\" target=\"_parent\"><img src=\"https://colab.research.google.com/assets/colab-badge.svg\" alt=\"Open In Colab\"/></a>"
      ]
    },
    {
      "cell_type": "markdown",
      "metadata": {
        "id": "Xwy-5UIVewx_"
      },
      "source": [
        "# Musical Classifiers\n",
        "\n",
        "In this notebook we build classifiers to predict the *gender* of a *song* using attributes computed from the *Spotify* API."
      ]
    },
    {
      "cell_type": "markdown",
      "metadata": {
        "id": "Fg74iHr_eqA2"
      },
      "source": [
        "\n",
        "<table align='left'>\n",
        "<tr>\n",
        "<td><img src='http://jricardon.github.io/spambase/spotify.png' width='800'/> </td>\n",
        "</tr>\n",
        "</table>\n"
      ]
    },
    {
      "cell_type": "markdown",
      "metadata": {
        "id": "00SxGmdNbIdc"
      },
      "source": [
        "# Ethics & Teamwork\n",
        "\n",
        "The following project is an original work of discussion, analysis and conclusion as part of the Machine Learning for Classification course in the Master in Data Science & Business Analytics at Bologna Business School (BBS)."
      ]
    },
    {
      "cell_type": "markdown",
      "metadata": {
        "id": "FeYecUn3dMdr"
      },
      "source": [
        "# Data"
      ]
    },
    {
      "cell_type": "markdown",
      "metadata": {
        "id": "Do096DvmdN0Y"
      },
      "source": [
        "We will use data from the *Spotify Tracks* database available at *kaggle.com*, an online community of data scientists and machine learning practitioners. \n",
        "\n",
        "> *https://www.kaggle.com/zaheenhamidani/ultimate-spotify-tracks-db*\n",
        "\n",
        "It contains information of 232,725 tracks classified into 26 non-exclusive genres. Different audio features have been extracted for each track using the Spotify Tracks API \n",
        "\n",
        "> *https://developer.spotify.com/documentation/web-api/reference/#endpoint-get-several-audio-features*\n",
        "\n",
        "These musical features are: danceability, energy, key, loudness, mode, speechiness, acousticness, instrumentalness, liveness, valence, tempo. Besides we have: the track_name, the artist_name, the track_id and the track popularity.\n",
        "The first may be encoded using text representation techniques but if you are not familiar with them, you can exclude these attributes from the analysis. Of course, the track_id should not be used as a predictor (why?).\n",
        "\n",
        "\n",
        "\n"
      ]
    },
    {
      "cell_type": "markdown",
      "metadata": {
        "id": "BYIFUEBOrOrJ"
      },
      "source": [
        "# Data Download"
      ]
    },
    {
      "cell_type": "markdown",
      "metadata": {
        "id": "sT7_1I5ft4WZ"
      },
      "source": [
        "The code below reads the csv file (comma separated values) and creates a pandas dataframe with the info we have about the tracks. There was a problem with the class \"Children’s Music\" that existed in two variants: \"Children’s Music\" and \"Children's Music\".   \n",
        "\n"
      ]
    },
    {
      "cell_type": "code",
      "metadata": {
        "colab": {
          "base_uri": "https://localhost:8080/",
          "height": 443
        },
        "id": "zUkOxl7RdvJv",
        "outputId": "685b0406-70e9-4371-ece0-a68cf00a6ab8"
      },
      "source": [
        "import pandas as pd\n",
        "import numpy as np\n",
        "import warnings\n",
        "warnings.filterwarnings(\"ignore\")\n",
        "import seaborn as sns; sns.set()\n",
        "import matplotlib.pyplot as plt\n",
        "\n",
        "data = pd.read_csv(name)\n",
        "data = data.dropna()\n",
        "print(data.columns)\n",
        "\n",
        "genres = np.unique([str(item) for item in data['genre'].values])\n",
        "print(\"Genre (Raw)\\n\", genres)\n",
        "print(\"\")\n",
        "data.loc[data['genre']==\"Children’s Music\", 'genre'] = \"Children's Music\"\n",
        "genres = np.unique([str(item) for item in data['genre'].values])\n",
        "print(\"Genre (Fixed)\\n\", genres)\n",
        "print(\"\")\n",
        "\n",
        "full_data = data.copy()\n"
      ],
      "execution_count": null,
      "outputs": [
        {
          "output_type": "error",
          "ename": "FileNotFoundError",
          "evalue": "ignored",
          "traceback": [
            "\u001b[0;31m---------------------------------------------------------------------------\u001b[0m",
            "\u001b[0;31mFileNotFoundError\u001b[0m                         Traceback (most recent call last)",
            "\u001b[0;32m<ipython-input-5-68fe1d702c96>\u001b[0m in \u001b[0;36m<module>\u001b[0;34m()\u001b[0m\n\u001b[1;32m      6\u001b[0m \u001b[0;32mimport\u001b[0m \u001b[0mmatplotlib\u001b[0m\u001b[0;34m.\u001b[0m\u001b[0mpyplot\u001b[0m \u001b[0;32mas\u001b[0m \u001b[0mplt\u001b[0m\u001b[0;34m\u001b[0m\u001b[0;34m\u001b[0m\u001b[0m\n\u001b[1;32m      7\u001b[0m \u001b[0;34m\u001b[0m\u001b[0m\n\u001b[0;32m----> 8\u001b[0;31m \u001b[0mdata\u001b[0m \u001b[0;34m=\u001b[0m \u001b[0mpd\u001b[0m\u001b[0;34m.\u001b[0m\u001b[0mread_csv\u001b[0m\u001b[0;34m(\u001b[0m\u001b[0mname\u001b[0m\u001b[0;34m)\u001b[0m\u001b[0;34m\u001b[0m\u001b[0;34m\u001b[0m\u001b[0m\n\u001b[0m\u001b[1;32m      9\u001b[0m \u001b[0mdata\u001b[0m \u001b[0;34m=\u001b[0m \u001b[0mdata\u001b[0m\u001b[0;34m.\u001b[0m\u001b[0mdropna\u001b[0m\u001b[0;34m(\u001b[0m\u001b[0;34m)\u001b[0m\u001b[0;34m\u001b[0m\u001b[0;34m\u001b[0m\u001b[0m\n\u001b[1;32m     10\u001b[0m \u001b[0mprint\u001b[0m\u001b[0;34m(\u001b[0m\u001b[0mdata\u001b[0m\u001b[0;34m.\u001b[0m\u001b[0mcolumns\u001b[0m\u001b[0;34m)\u001b[0m\u001b[0;34m\u001b[0m\u001b[0;34m\u001b[0m\u001b[0m\n",
            "\u001b[0;32m/usr/local/lib/python3.7/dist-packages/pandas/io/parsers.py\u001b[0m in \u001b[0;36mread_csv\u001b[0;34m(filepath_or_buffer, sep, delimiter, header, names, index_col, usecols, squeeze, prefix, mangle_dupe_cols, dtype, engine, converters, true_values, false_values, skipinitialspace, skiprows, skipfooter, nrows, na_values, keep_default_na, na_filter, verbose, skip_blank_lines, parse_dates, infer_datetime_format, keep_date_col, date_parser, dayfirst, cache_dates, iterator, chunksize, compression, thousands, decimal, lineterminator, quotechar, quoting, doublequote, escapechar, comment, encoding, dialect, error_bad_lines, warn_bad_lines, delim_whitespace, low_memory, memory_map, float_precision)\u001b[0m\n\u001b[1;32m    686\u001b[0m     )\n\u001b[1;32m    687\u001b[0m \u001b[0;34m\u001b[0m\u001b[0m\n\u001b[0;32m--> 688\u001b[0;31m     \u001b[0;32mreturn\u001b[0m \u001b[0m_read\u001b[0m\u001b[0;34m(\u001b[0m\u001b[0mfilepath_or_buffer\u001b[0m\u001b[0;34m,\u001b[0m \u001b[0mkwds\u001b[0m\u001b[0;34m)\u001b[0m\u001b[0;34m\u001b[0m\u001b[0;34m\u001b[0m\u001b[0m\n\u001b[0m\u001b[1;32m    689\u001b[0m \u001b[0;34m\u001b[0m\u001b[0m\n\u001b[1;32m    690\u001b[0m \u001b[0;34m\u001b[0m\u001b[0m\n",
            "\u001b[0;32m/usr/local/lib/python3.7/dist-packages/pandas/io/parsers.py\u001b[0m in \u001b[0;36m_read\u001b[0;34m(filepath_or_buffer, kwds)\u001b[0m\n\u001b[1;32m    452\u001b[0m \u001b[0;34m\u001b[0m\u001b[0m\n\u001b[1;32m    453\u001b[0m     \u001b[0;31m# Create the parser.\u001b[0m\u001b[0;34m\u001b[0m\u001b[0;34m\u001b[0m\u001b[0;34m\u001b[0m\u001b[0m\n\u001b[0;32m--> 454\u001b[0;31m     \u001b[0mparser\u001b[0m \u001b[0;34m=\u001b[0m \u001b[0mTextFileReader\u001b[0m\u001b[0;34m(\u001b[0m\u001b[0mfp_or_buf\u001b[0m\u001b[0;34m,\u001b[0m \u001b[0;34m**\u001b[0m\u001b[0mkwds\u001b[0m\u001b[0;34m)\u001b[0m\u001b[0;34m\u001b[0m\u001b[0;34m\u001b[0m\u001b[0m\n\u001b[0m\u001b[1;32m    455\u001b[0m \u001b[0;34m\u001b[0m\u001b[0m\n\u001b[1;32m    456\u001b[0m     \u001b[0;32mif\u001b[0m \u001b[0mchunksize\u001b[0m \u001b[0;32mor\u001b[0m \u001b[0miterator\u001b[0m\u001b[0;34m:\u001b[0m\u001b[0;34m\u001b[0m\u001b[0;34m\u001b[0m\u001b[0m\n",
            "\u001b[0;32m/usr/local/lib/python3.7/dist-packages/pandas/io/parsers.py\u001b[0m in \u001b[0;36m__init__\u001b[0;34m(self, f, engine, **kwds)\u001b[0m\n\u001b[1;32m    946\u001b[0m             \u001b[0mself\u001b[0m\u001b[0;34m.\u001b[0m\u001b[0moptions\u001b[0m\u001b[0;34m[\u001b[0m\u001b[0;34m\"has_index_names\"\u001b[0m\u001b[0;34m]\u001b[0m \u001b[0;34m=\u001b[0m \u001b[0mkwds\u001b[0m\u001b[0;34m[\u001b[0m\u001b[0;34m\"has_index_names\"\u001b[0m\u001b[0;34m]\u001b[0m\u001b[0;34m\u001b[0m\u001b[0;34m\u001b[0m\u001b[0m\n\u001b[1;32m    947\u001b[0m \u001b[0;34m\u001b[0m\u001b[0m\n\u001b[0;32m--> 948\u001b[0;31m         \u001b[0mself\u001b[0m\u001b[0;34m.\u001b[0m\u001b[0m_make_engine\u001b[0m\u001b[0;34m(\u001b[0m\u001b[0mself\u001b[0m\u001b[0;34m.\u001b[0m\u001b[0mengine\u001b[0m\u001b[0;34m)\u001b[0m\u001b[0;34m\u001b[0m\u001b[0;34m\u001b[0m\u001b[0m\n\u001b[0m\u001b[1;32m    949\u001b[0m \u001b[0;34m\u001b[0m\u001b[0m\n\u001b[1;32m    950\u001b[0m     \u001b[0;32mdef\u001b[0m \u001b[0mclose\u001b[0m\u001b[0;34m(\u001b[0m\u001b[0mself\u001b[0m\u001b[0;34m)\u001b[0m\u001b[0;34m:\u001b[0m\u001b[0;34m\u001b[0m\u001b[0;34m\u001b[0m\u001b[0m\n",
            "\u001b[0;32m/usr/local/lib/python3.7/dist-packages/pandas/io/parsers.py\u001b[0m in \u001b[0;36m_make_engine\u001b[0;34m(self, engine)\u001b[0m\n\u001b[1;32m   1178\u001b[0m     \u001b[0;32mdef\u001b[0m \u001b[0m_make_engine\u001b[0m\u001b[0;34m(\u001b[0m\u001b[0mself\u001b[0m\u001b[0;34m,\u001b[0m \u001b[0mengine\u001b[0m\u001b[0;34m=\u001b[0m\u001b[0;34m\"c\"\u001b[0m\u001b[0;34m)\u001b[0m\u001b[0;34m:\u001b[0m\u001b[0;34m\u001b[0m\u001b[0;34m\u001b[0m\u001b[0m\n\u001b[1;32m   1179\u001b[0m         \u001b[0;32mif\u001b[0m \u001b[0mengine\u001b[0m \u001b[0;34m==\u001b[0m \u001b[0;34m\"c\"\u001b[0m\u001b[0;34m:\u001b[0m\u001b[0;34m\u001b[0m\u001b[0;34m\u001b[0m\u001b[0m\n\u001b[0;32m-> 1180\u001b[0;31m             \u001b[0mself\u001b[0m\u001b[0;34m.\u001b[0m\u001b[0m_engine\u001b[0m \u001b[0;34m=\u001b[0m \u001b[0mCParserWrapper\u001b[0m\u001b[0;34m(\u001b[0m\u001b[0mself\u001b[0m\u001b[0;34m.\u001b[0m\u001b[0mf\u001b[0m\u001b[0;34m,\u001b[0m \u001b[0;34m**\u001b[0m\u001b[0mself\u001b[0m\u001b[0;34m.\u001b[0m\u001b[0moptions\u001b[0m\u001b[0;34m)\u001b[0m\u001b[0;34m\u001b[0m\u001b[0;34m\u001b[0m\u001b[0m\n\u001b[0m\u001b[1;32m   1181\u001b[0m         \u001b[0;32melse\u001b[0m\u001b[0;34m:\u001b[0m\u001b[0;34m\u001b[0m\u001b[0;34m\u001b[0m\u001b[0m\n\u001b[1;32m   1182\u001b[0m             \u001b[0;32mif\u001b[0m \u001b[0mengine\u001b[0m \u001b[0;34m==\u001b[0m \u001b[0;34m\"python\"\u001b[0m\u001b[0;34m:\u001b[0m\u001b[0;34m\u001b[0m\u001b[0;34m\u001b[0m\u001b[0m\n",
            "\u001b[0;32m/usr/local/lib/python3.7/dist-packages/pandas/io/parsers.py\u001b[0m in \u001b[0;36m__init__\u001b[0;34m(self, src, **kwds)\u001b[0m\n\u001b[1;32m   2008\u001b[0m         \u001b[0mkwds\u001b[0m\u001b[0;34m[\u001b[0m\u001b[0;34m\"usecols\"\u001b[0m\u001b[0;34m]\u001b[0m \u001b[0;34m=\u001b[0m \u001b[0mself\u001b[0m\u001b[0;34m.\u001b[0m\u001b[0musecols\u001b[0m\u001b[0;34m\u001b[0m\u001b[0;34m\u001b[0m\u001b[0m\n\u001b[1;32m   2009\u001b[0m \u001b[0;34m\u001b[0m\u001b[0m\n\u001b[0;32m-> 2010\u001b[0;31m         \u001b[0mself\u001b[0m\u001b[0;34m.\u001b[0m\u001b[0m_reader\u001b[0m \u001b[0;34m=\u001b[0m \u001b[0mparsers\u001b[0m\u001b[0;34m.\u001b[0m\u001b[0mTextReader\u001b[0m\u001b[0;34m(\u001b[0m\u001b[0msrc\u001b[0m\u001b[0;34m,\u001b[0m \u001b[0;34m**\u001b[0m\u001b[0mkwds\u001b[0m\u001b[0;34m)\u001b[0m\u001b[0;34m\u001b[0m\u001b[0;34m\u001b[0m\u001b[0m\n\u001b[0m\u001b[1;32m   2011\u001b[0m         \u001b[0mself\u001b[0m\u001b[0;34m.\u001b[0m\u001b[0munnamed_cols\u001b[0m \u001b[0;34m=\u001b[0m \u001b[0mself\u001b[0m\u001b[0;34m.\u001b[0m\u001b[0m_reader\u001b[0m\u001b[0;34m.\u001b[0m\u001b[0munnamed_cols\u001b[0m\u001b[0;34m\u001b[0m\u001b[0;34m\u001b[0m\u001b[0m\n\u001b[1;32m   2012\u001b[0m \u001b[0;34m\u001b[0m\u001b[0m\n",
            "\u001b[0;32mpandas/_libs/parsers.pyx\u001b[0m in \u001b[0;36mpandas._libs.parsers.TextReader.__cinit__\u001b[0;34m()\u001b[0m\n",
            "\u001b[0;32mpandas/_libs/parsers.pyx\u001b[0m in \u001b[0;36mpandas._libs.parsers.TextReader._setup_parser_source\u001b[0;34m()\u001b[0m\n",
            "\u001b[0;31mFileNotFoundError\u001b[0m: [Errno 2] No such file or directory: 'SpotifyTracksDB.csv'"
          ]
        }
      ]
    },
    {
      "cell_type": "markdown",
      "metadata": {
        "id": "09XxGCyDvCwQ"
      },
      "source": [
        "# Basic Exploratory Data Analysis"
      ]
    },
    {
      "cell_type": "markdown",
      "metadata": {
        "id": "HAy2ASclhQjY"
      },
      "source": [
        "## Songs by Genre"
      ]
    },
    {
      "cell_type": "code",
      "metadata": {
        "id": "Dsg05R5DvOmq"
      },
      "source": [
        "gr = data.groupby(['genre']).size().reset_index(name='counts')\n",
        "fig, ax = plt.subplots(figsize=(10,10),nrows=1)\n",
        "sns.barplot(data=gr, y='genre', x='counts', palette=\"Blues_d\",ax=ax)\n",
        "ax.set_title('Songs by Genre')\n",
        "plt.show()"
      ],
      "execution_count": null,
      "outputs": []
    },
    {
      "cell_type": "markdown",
      "metadata": {
        "id": "TzKXqw6JhUFe"
      },
      "source": [
        "## Popular Artists"
      ]
    },
    {
      "cell_type": "code",
      "metadata": {
        "id": "66PtP8M7Ug_d"
      },
      "source": [
        "gr = data.groupby(['artist_name'])['popularity'].mean().sort_values(ascending=False)\n",
        "gr = gr.reset_index(name='popularity').head(30)\n",
        "fig, ax = plt.subplots(figsize=(10,5),nrows=1)\n",
        "p = sns.barplot(data=gr, x='artist_name', y='popularity', palette=\"rocket\",ax=ax)\n",
        "plt.setp(p.get_xticklabels(), rotation=90)\n",
        "ax.set_title('Most Popular Artists')\n",
        "plt.show()\n",
        "\n",
        "print(\"\")"
      ],
      "execution_count": null,
      "outputs": []
    },
    {
      "cell_type": "markdown",
      "metadata": {
        "id": "e85P-911hXF5"
      },
      "source": [
        "## Some Tracks"
      ]
    },
    {
      "cell_type": "code",
      "metadata": {
        "id": "Rgagj4-175H0"
      },
      "source": [
        "#indices = data.index[(data['genre'] == 'Rock')].tolist()\n",
        "#indices = data.index[(data['genre'] == 'Pop') & (data['artist_name'] == 'Ed Sheeran')].tolist()\n",
        "indices = data.index[(data['genre'] == 'Rock') & (data['artist_name'] == 'The Beatles')].tolist()\n",
        "#indices = data.index[(data['genre'] == 'Jazz') & (data['track_name'] == 'The Girl From Ipanema')].tolist()\n",
        "test_idx = np.random.choice(indices, 1)\n",
        "\n",
        "print(\"\\nSong: \", data.loc[test_idx]['track_name'].values[0])\n",
        "print(\"Artist: \", data.loc[test_idx]['artist_name'].values[0])\n",
        "print(\"Ground Truth:\",data.loc[test_idx]['genre'].values[0])"
      ],
      "execution_count": null,
      "outputs": []
    },
    {
      "cell_type": "markdown",
      "metadata": {
        "id": "fhsI_ZUrhdZd"
      },
      "source": [
        "## Select a Subset of Genres"
      ]
    },
    {
      "cell_type": "code",
      "metadata": {
        "id": "vMiurDZJUpps"
      },
      "source": [
        "# select 2\n",
        "# selected_genres = ['Classical','Electronic'] \n",
        "\n",
        "# select 5\n",
        "selected_genres = ['Classical','Electronic','Jazz','Rock','Rap']\n",
        "\n",
        "not_selected_genres = [genre for genre in genres if genre not in selected_genres]\n",
        "genres = selected_genres\n",
        "\n",
        "data = full_data[full_data['genre'].isin(selected_genres)]\n",
        "\n",
        "gr = data.groupby(['genre']).size().reset_index(name='counts')\n",
        "fig, ax = plt.subplots(figsize=(10,2),nrows=1)\n",
        "sns.barplot(data=gr, y='genre', x='counts', palette=\"Blues_d\",ax=ax)\n",
        "ax.set_title('Number of tracks per selected genre')\n",
        "plt.show()\n",
        "\n",
        "\n",
        "genre_to_number = {label: i for i, label in enumerate(set(genres), 0)}\n",
        "number_to_genre = {i: label for i, label in enumerate(set(genres), 0)}\n",
        "\n",
        "for genre in genres:\n",
        "  data.loc[data['genre'] == genre, 'class'] = genre_to_number[genre]\n"
      ],
      "execution_count": null,
      "outputs": []
    },
    {
      "cell_type": "markdown",
      "metadata": {
        "id": "QOO35ohmt8pI"
      },
      "source": [
        "## Distribution of the Attributes"
      ]
    },
    {
      "cell_type": "code",
      "metadata": {
        "id": "JeHBDJcjwH-M"
      },
      "source": [
        "#playlist_name no\n",
        "print(data.columns)\n",
        "\n",
        "cont_predictors_names = ['acousticness','danceability','duration_ms','energy','instrumentalness','liveness','loudness','speechiness','tempo','valence']\n",
        "cat_predictors = ['mode','time_signature','key']\n",
        "other_predictors = ['genre','artist_name','track_name','track_id']\n",
        "\n",
        "#major = 1\n",
        "#minor = 0\n",
        "#(1,0,0,0,0,0,0,0,0,0,0,0,0)\n",
        "print(len(cont_predictors_names))\n",
        "\n",
        "#dummies = pd.get_dummies(df['Category'])\n",
        "\n",
        "fig, axes = plt.subplots(figsize=(16,12), nrows=3, ncols=4)\n",
        "for i, column in enumerate(cont_predictors_names):\n",
        "    for genre in genres:\n",
        "      target = data.loc[data['genre'] == genre]\n",
        "      sns.distplot(target[column], hist=True, rug=False, kde=True, ax=axes[i//4,i%4],label=genre)\n",
        "      if i==0:\n",
        "        axes[0,0].legend()\n",
        "\n",
        "plt.show()\n",
        "\n",
        "fig, axes = plt.subplots(figsize=(16,4), nrows=1, ncols=4)\n",
        "for i, column in enumerate(cat_predictors):\n",
        "  df_gb = data.groupby([column, 'class']).size().unstack(level=1)\n",
        "  df_gb.plot(kind = 'bar',ax=axes[i%4])\n",
        "\n",
        "plt.show()\n",
        "\n",
        "fig, ax = plt.subplots(figsize=(16,4), nrows=1, ncols=1)\n",
        "df_gb = data.groupby(['key', 'class']).size().unstack(level=1)\n",
        "df_gb.plot(kind = 'bar',ax=ax)\n",
        "plt.show()\n",
        "\n"
      ],
      "execution_count": null,
      "outputs": []
    },
    {
      "cell_type": "markdown",
      "metadata": {
        "id": "ztT_SWp-hpeK"
      },
      "source": [
        "## Boxplots"
      ]
    },
    {
      "cell_type": "code",
      "metadata": {
        "colab": {
          "base_uri": "https://localhost:8080/",
          "height": 771
        },
        "id": "JzEFPHvASqWv",
        "outputId": "f375191d-3534-4912-9efd-6c8a34944e65"
      },
      "source": [
        "\n",
        "fig, axes = plt.subplots(figsize=(16,6), nrows=2, ncols=5)\n",
        "for i, column in enumerate(cont_predictors_names):\n",
        "      sns.boxplot(x=data[column],ax=axes[i//5,i%5])\n",
        "\n",
        "plt.show()\n",
        "\n",
        "Q1 = data[cont_predictors_names].quantile(0.25)\n",
        "Q3 = data[cont_predictors_names].quantile(0.75)\n",
        "IQR = Q3 - Q1\n",
        "\n",
        "filter = ((data[cont_predictors_names] < (Q1 - 1.5 * IQR)) | (data[cont_predictors_names] > (Q3 + 1.5 * IQR))).any(axis=1)\n",
        "\n",
        "data_filtered = data[~filter].copy()\n",
        "fig, axes = plt.subplots(figsize=(16,6), nrows=2, ncols=5)\n",
        "for i, column in enumerate(cont_predictors_names):\n",
        "      sns.boxplot(x=data_filtered[column],ax=axes[i//5,i%5],color=\"skyblue\")\n",
        "\n",
        "plt.show()"
      ],
      "execution_count": null,
      "outputs": [
        {
          "output_type": "display_data",
          "data": {
            "image/png": "[encoded data removed]",
            "text/plain": [
              "<Figure size 1152x432 with 10 Axes>"
            ]
          },
          "metadata": {
            "tags": []
          }
        },
        {
          "output_type": "display_data",
          "data": {
            "image/png": "[encoded data removed]",
            "text/plain": [
              "<Figure size 1152x432 with 10 Axes>"
            ]
          },
          "metadata": {
            "tags": []
          }
        }
      ]
    },
    {
      "cell_type": "code",
      "metadata": {
        "id": "E_S0dT3Sg33Z",
        "outputId": "c2e87688-9543-4c76-957a-f5375649a757"
      },
      "source": [
        "data_filtered.head()"
      ],
      "execution_count": null,
      "outputs": [
        {
          "output_type": "execute_result",
          "data": {
            "text/html": [
              "<div>\n",
              "<style scoped>\n",
              "    .dataframe tbody tr th:only-of-type {\n",
              "        vertical-align: middle;\n",
              "    }\n",
              "\n",
              "    .dataframe tbody tr th {\n",
              "        vertical-align: top;\n",
              "    }\n",
              "\n",
              "    .dataframe thead th {\n",
              "        text-align: right;\n",
              "    }\n",
              "</style>\n",
              "<table border=\"1\" class=\"dataframe\">\n",
              "  <thead>\n",
              "    <tr style=\"text-align: right;\">\n",
              "      <th></th>\n",
              "      <th>genre</th>\n",
              "      <th>artist_name</th>\n",
              "      <th>track_name</th>\n",
              "      <th>track_id</th>\n",
              "      <th>popularity</th>\n",
              "      <th>acousticness</th>\n",
              "      <th>danceability</th>\n",
              "      <th>duration_ms</th>\n",
              "      <th>energy</th>\n",
              "      <th>instrumentalness</th>\n",
              "      <th>key</th>\n",
              "      <th>liveness</th>\n",
              "      <th>loudness</th>\n",
              "      <th>mode</th>\n",
              "      <th>speechiness</th>\n",
              "      <th>tempo</th>\n",
              "      <th>time_signature</th>\n",
              "      <th>valence</th>\n",
              "      <th>class</th>\n",
              "    </tr>\n",
              "  </thead>\n",
              "  <tbody>\n",
              "    <tr>\n",
              "      <th>22170</th>\n",
              "      <td>Electronic</td>\n",
              "      <td>DJ Snake</td>\n",
              "      <td>Let Me Love You</td>\n",
              "      <td>0lYBSQXN6rCTvUZvg9S0lU</td>\n",
              "      <td>82</td>\n",
              "      <td>0.0771</td>\n",
              "      <td>0.652</td>\n",
              "      <td>205947</td>\n",
              "      <td>0.713</td>\n",
              "      <td>0.000010</td>\n",
              "      <td>G#</td>\n",
              "      <td>0.1440</td>\n",
              "      <td>-5.311</td>\n",
              "      <td>Major</td>\n",
              "      <td>0.0368</td>\n",
              "      <td>100.023</td>\n",
              "      <td>4/4</td>\n",
              "      <td>0.152</td>\n",
              "      <td>3.0</td>\n",
              "    </tr>\n",
              "    <tr>\n",
              "      <th>22171</th>\n",
              "      <td>Electronic</td>\n",
              "      <td>RL Grime</td>\n",
              "      <td>UCLA</td>\n",
              "      <td>3OaunNUlXXs5e2PXtNAzzG</td>\n",
              "      <td>70</td>\n",
              "      <td>0.0742</td>\n",
              "      <td>0.536</td>\n",
              "      <td>192000</td>\n",
              "      <td>0.879</td>\n",
              "      <td>0.000000</td>\n",
              "      <td>C#</td>\n",
              "      <td>0.0847</td>\n",
              "      <td>-3.019</td>\n",
              "      <td>Major</td>\n",
              "      <td>0.0621</td>\n",
              "      <td>140.137</td>\n",
              "      <td>4/4</td>\n",
              "      <td>0.334</td>\n",
              "      <td>3.0</td>\n",
              "    </tr>\n",
              "    <tr>\n",
              "      <th>22172</th>\n",
              "      <td>Electronic</td>\n",
              "      <td>DJ Snake</td>\n",
              "      <td>Middle</td>\n",
              "      <td>0g5EKLgdKvNlln7TNqBByK</td>\n",
              "      <td>78</td>\n",
              "      <td>0.0203</td>\n",
              "      <td>0.586</td>\n",
              "      <td>220573</td>\n",
              "      <td>0.701</td>\n",
              "      <td>0.000000</td>\n",
              "      <td>C#</td>\n",
              "      <td>0.0550</td>\n",
              "      <td>-5.326</td>\n",
              "      <td>Minor</td>\n",
              "      <td>0.0416</td>\n",
              "      <td>104.957</td>\n",
              "      <td>4/4</td>\n",
              "      <td>0.254</td>\n",
              "      <td>3.0</td>\n",
              "    </tr>\n",
              "    <tr>\n",
              "      <th>22174</th>\n",
              "      <td>Electronic</td>\n",
              "      <td>Daft Punk</td>\n",
              "      <td>One More Time</td>\n",
              "      <td>0DiWol3AO6WpXZgp0goxAV</td>\n",
              "      <td>74</td>\n",
              "      <td>0.0193</td>\n",
              "      <td>0.611</td>\n",
              "      <td>320357</td>\n",
              "      <td>0.697</td>\n",
              "      <td>0.000000</td>\n",
              "      <td>D</td>\n",
              "      <td>0.3320</td>\n",
              "      <td>-8.618</td>\n",
              "      <td>Major</td>\n",
              "      <td>0.1330</td>\n",
              "      <td>122.752</td>\n",
              "      <td>4/4</td>\n",
              "      <td>0.476</td>\n",
              "      <td>3.0</td>\n",
              "    </tr>\n",
              "    <tr>\n",
              "      <th>22175</th>\n",
              "      <td>Electronic</td>\n",
              "      <td>Daft Punk</td>\n",
              "      <td>Get Lucky (feat. Pharrell Williams &amp; Nile Rodg...</td>\n",
              "      <td>2Foc5Q5nqNiosCNqttzHof</td>\n",
              "      <td>76</td>\n",
              "      <td>0.0426</td>\n",
              "      <td>0.794</td>\n",
              "      <td>248413</td>\n",
              "      <td>0.811</td>\n",
              "      <td>0.000001</td>\n",
              "      <td>F#</td>\n",
              "      <td>0.1010</td>\n",
              "      <td>-8.966</td>\n",
              "      <td>Minor</td>\n",
              "      <td>0.0380</td>\n",
              "      <td>116.047</td>\n",
              "      <td>4/4</td>\n",
              "      <td>0.862</td>\n",
              "      <td>3.0</td>\n",
              "    </tr>\n",
              "  </tbody>\n",
              "</table>\n",
              "</div>"
            ],
            "text/plain": [
              "            genre artist_name  ... valence class\n",
              "22170  Electronic    DJ Snake  ...   0.152   3.0\n",
              "22171  Electronic    RL Grime  ...   0.334   3.0\n",
              "22172  Electronic    DJ Snake  ...   0.254   3.0\n",
              "22174  Electronic   Daft Punk  ...   0.476   3.0\n",
              "22175  Electronic   Daft Punk  ...   0.862   3.0\n",
              "\n",
              "[5 rows x 19 columns]"
            ]
          },
          "metadata": {
            "tags": []
          },
          "execution_count": 56
        }
      ]
    },
    {
      "cell_type": "markdown",
      "metadata": {
        "id": "sAmm9nWVHimJ"
      },
      "source": [
        "# Basic Pre-processing"
      ]
    },
    {
      "cell_type": "markdown",
      "metadata": {
        "id": "LILtFG-wg33d"
      },
      "source": [
        "Since for the most part I'll be using GridSearchCV and therefore Cross-Validation, will not split the data into train,validation and test but just in *train and test*:"
      ]
    },
    {
      "cell_type": "code",
      "metadata": {
        "colab": {
          "base_uri": "https://localhost:8080/"
        },
        "id": "_tg_DUWGHlle",
        "outputId": "4e295354-bd8c-4c5c-8b7f-1c1a40676c77"
      },
      "source": [
        "from sklearn.preprocessing import StandardScaler\n",
        "\n",
        "cont_predictors_names = ['acousticness','danceability','duration_ms','energy','instrumentalness','liveness','loudness','speechiness','tempo','valence']\n",
        "cat_predictors = ['mode','time_signature','key']\n",
        "other_predictors = ['genre','artist_name','track_name','track_id']\n",
        "\n",
        "cont_features = data[cont_predictors_names]\n",
        "dummy_key = pd.get_dummies(data['key'],prefix='key')\n",
        "dummy_mode = pd.get_dummies(data['mode'],prefix='mode')\n",
        "dummy_signature = pd.get_dummies(data['time_signature'],prefix='time_sign')\n",
        "binary_features = pd.concat([dummy_key,dummy_signature],axis=1)\n",
        "binary_features = pd.concat([binary_features,dummy_mode],axis=1)\n",
        "binary_predictors_names = binary_features.columns#names \n",
        "\n",
        "X = cont_features\n",
        "y = data['class']\n",
        "info = data[other_predictors]\n",
        "\n",
        "print(\"X,y Shapes:\", X.shape, y.shape)\n",
        "\n",
        "# from sklearn.preprocessing import PolynomialFeatures\n",
        "# poly = PolynomialFeatures(degree=3,include_bias=False)\n",
        "#result = poly.fit_transform(cont_features.values)\n",
        "#cont_predictors_names = ['x'.join(['{}^{}'.format(pair[0],pair[1]) for pair in tuple if pair[1]!=0]) for tuple in [zip(cont_predictors_names,p) for p in poly.powers_]]\n",
        "#X = pd.DataFrame(result, columns = cont_predictors_names)\n",
        "print(\"Binary Features Shapes:\", binary_features.shape)\n",
        "\n",
        "X = pd.concat([X.reset_index(drop=True),binary_features.reset_index(drop=True)],axis=1)\n",
        "\n",
        "#X = pd.concat([X.reset_index(drop=True),text_features.reset_index(drop=True)],axis=1)\n",
        "print(\"X,y Shapes:\", X.shape, y.shape)\n",
        "#scaler = StandardScaler()\n",
        "#X[cont_predictors_names] = scaler.fit_transform(X[cont_predictors_names])\n",
        "\n",
        "from sklearn.model_selection import train_test_split\n",
        "X_train, X_test, y_train, y_test, info_train, info_test = train_test_split(X, y, info, test_size=0.5, random_state=0)\n",
        "# X_train, X_val, y_train, y_val, info_train, info_val = train_test_split(X_train, y_train, info_train, test_size=0.5, random_state=0)\n",
        "\n",
        "print(\"X,y Shapes:\", X.shape, y.shape)\n",
        "print(\"X,y Train Shapes:\", X_train.shape, y_train.shape)\n",
        "# print(\"X,y Val Shapes:\", X_val.shape, y_val.shape)\n",
        "print(\"X,y Test Shapes:\", X_test.shape, y_test.shape)\n",
        "\n",
        "scaler = StandardScaler()\n",
        "#Z = X-mu/sigma\n",
        "\n",
        "X_train[cont_predictors_names] = scaler.fit_transform(X_train[cont_predictors_names])\n",
        "# X_val[cont_predictors_names] = scaler.transform(X_val[cont_predictors_names])\n",
        "X_test[cont_predictors_names] = scaler.transform(X_test[cont_predictors_names])\n"
      ],
      "execution_count": null,
      "outputs": [
        {
          "output_type": "stream",
          "text": [
            "X,y Shapes: (46578, 10) (46578,)\n",
            "Binary Features Shapes: (46578, 19)\n",
            "X,y Shapes: (46578, 29) (46578,)\n",
            "X,y Shapes: (46578, 29) (46578,)\n",
            "X,y Train Shapes: (23289, 29) (23289,)\n",
            "X,y Test Shapes: (23289, 29) (23289,)\n"
          ],
          "name": "stdout"
        }
      ]
    },
    {
      "cell_type": "code",
      "metadata": {
        "id": "otS7P8_eg337",
        "outputId": "51d9c58d-14f2-4f75-bbd8-eb53ccd4bdbc"
      },
      "source": [
        "X_train.head()"
      ],
      "execution_count": null,
      "outputs": [
        {
          "output_type": "execute_result",
          "data": {
            "text/html": [
              "<div>\n",
              "<style scoped>\n",
              "    .dataframe tbody tr th:only-of-type {\n",
              "        vertical-align: middle;\n",
              "    }\n",
              "\n",
              "    .dataframe tbody tr th {\n",
              "        vertical-align: top;\n",
              "    }\n",
              "\n",
              "    .dataframe thead th {\n",
              "        text-align: right;\n",
              "    }\n",
              "</style>\n",
              "<table border=\"1\" class=\"dataframe\">\n",
              "  <thead>\n",
              "    <tr style=\"text-align: right;\">\n",
              "      <th></th>\n",
              "      <th>acousticness^1</th>\n",
              "      <th>danceability^1</th>\n",
              "      <th>duration_ms^1</th>\n",
              "      <th>energy^1</th>\n",
              "      <th>instrumentalness^1</th>\n",
              "      <th>liveness^1</th>\n",
              "      <th>loudness^1</th>\n",
              "      <th>speechiness^1</th>\n",
              "      <th>tempo^1</th>\n",
              "      <th>valence^1</th>\n",
              "      <th>acousticness^2</th>\n",
              "      <th>acousticness^1xdanceability^1</th>\n",
              "      <th>acousticness^1xduration_ms^1</th>\n",
              "      <th>acousticness^1xenergy^1</th>\n",
              "      <th>acousticness^1xinstrumentalness^1</th>\n",
              "      <th>acousticness^1xliveness^1</th>\n",
              "      <th>acousticness^1xloudness^1</th>\n",
              "      <th>acousticness^1xspeechiness^1</th>\n",
              "      <th>acousticness^1xtempo^1</th>\n",
              "      <th>acousticness^1xvalence^1</th>\n",
              "      <th>danceability^2</th>\n",
              "      <th>danceability^1xduration_ms^1</th>\n",
              "      <th>danceability^1xenergy^1</th>\n",
              "      <th>danceability^1xinstrumentalness^1</th>\n",
              "      <th>danceability^1xliveness^1</th>\n",
              "      <th>danceability^1xloudness^1</th>\n",
              "      <th>danceability^1xspeechiness^1</th>\n",
              "      <th>danceability^1xtempo^1</th>\n",
              "      <th>danceability^1xvalence^1</th>\n",
              "      <th>duration_ms^2</th>\n",
              "      <th>duration_ms^1xenergy^1</th>\n",
              "      <th>duration_ms^1xinstrumentalness^1</th>\n",
              "      <th>duration_ms^1xliveness^1</th>\n",
              "      <th>duration_ms^1xloudness^1</th>\n",
              "      <th>duration_ms^1xspeechiness^1</th>\n",
              "      <th>duration_ms^1xtempo^1</th>\n",
              "      <th>duration_ms^1xvalence^1</th>\n",
              "      <th>energy^2</th>\n",
              "      <th>energy^1xinstrumentalness^1</th>\n",
              "      <th>energy^1xliveness^1</th>\n",
              "      <th>...</th>\n",
              "      <th>liveness^1xtempo^1xvalence^1</th>\n",
              "      <th>liveness^1xvalence^2</th>\n",
              "      <th>loudness^3</th>\n",
              "      <th>loudness^2xspeechiness^1</th>\n",
              "      <th>loudness^2xtempo^1</th>\n",
              "      <th>loudness^2xvalence^1</th>\n",
              "      <th>loudness^1xspeechiness^2</th>\n",
              "      <th>loudness^1xspeechiness^1xtempo^1</th>\n",
              "      <th>loudness^1xspeechiness^1xvalence^1</th>\n",
              "      <th>loudness^1xtempo^2</th>\n",
              "      <th>loudness^1xtempo^1xvalence^1</th>\n",
              "      <th>loudness^1xvalence^2</th>\n",
              "      <th>speechiness^3</th>\n",
              "      <th>speechiness^2xtempo^1</th>\n",
              "      <th>speechiness^2xvalence^1</th>\n",
              "      <th>speechiness^1xtempo^2</th>\n",
              "      <th>speechiness^1xtempo^1xvalence^1</th>\n",
              "      <th>speechiness^1xvalence^2</th>\n",
              "      <th>tempo^3</th>\n",
              "      <th>tempo^2xvalence^1</th>\n",
              "      <th>tempo^1xvalence^2</th>\n",
              "      <th>valence^3</th>\n",
              "      <th>key_A</th>\n",
              "      <th>key_A#</th>\n",
              "      <th>key_B</th>\n",
              "      <th>key_C</th>\n",
              "      <th>key_C#</th>\n",
              "      <th>key_D</th>\n",
              "      <th>key_D#</th>\n",
              "      <th>key_E</th>\n",
              "      <th>key_F</th>\n",
              "      <th>key_F#</th>\n",
              "      <th>key_G</th>\n",
              "      <th>key_G#</th>\n",
              "      <th>time_sign_1/4</th>\n",
              "      <th>time_sign_3/4</th>\n",
              "      <th>time_sign_4/4</th>\n",
              "      <th>time_sign_5/4</th>\n",
              "      <th>mode_Major</th>\n",
              "      <th>mode_Minor</th>\n",
              "    </tr>\n",
              "  </thead>\n",
              "  <tbody>\n",
              "    <tr>\n",
              "      <th>17786</th>\n",
              "      <td>1.106560</td>\n",
              "      <td>-0.582249</td>\n",
              "      <td>-1.327447</td>\n",
              "      <td>-0.559828</td>\n",
              "      <td>1.145483</td>\n",
              "      <td>1.119057</td>\n",
              "      <td>-0.496534</td>\n",
              "      <td>-0.563272</td>\n",
              "      <td>-0.617679</td>\n",
              "      <td>1.355519</td>\n",
              "      <td>1.183064</td>\n",
              "      <td>1.051887</td>\n",
              "      <td>-0.456997</td>\n",
              "      <td>1.680643</td>\n",
              "      <td>1.587255</td>\n",
              "      <td>2.511055</td>\n",
              "      <td>-0.703765</td>\n",
              "      <td>0.123229</td>\n",
              "      <td>0.876937</td>\n",
              "      <td>3.109704</td>\n",
              "      <td>-0.710022</td>\n",
              "      <td>-1.295246</td>\n",
              "      <td>-0.730182</td>\n",
              "      <td>0.583330</td>\n",
              "      <td>0.383371</td>\n",
              "      <td>-0.347335</td>\n",
              "      <td>-0.551637</td>\n",
              "      <td>-0.743462</td>\n",
              "      <td>0.253279</td>\n",
              "      <td>-0.417525</td>\n",
              "      <td>-0.999125</td>\n",
              "      <td>-0.525811</td>\n",
              "      <td>-0.450844</td>\n",
              "      <td>0.702746</td>\n",
              "      <td>-0.884883</td>\n",
              "      <td>-1.368671</td>\n",
              "      <td>-0.569987</td>\n",
              "      <td>-0.773388</td>\n",
              "      <td>0.376424</td>\n",
              "      <td>-0.013223</td>\n",
              "      <td>...</td>\n",
              "      <td>1.452143</td>\n",
              "      <td>2.104491</td>\n",
              "      <td>0.034827</td>\n",
              "      <td>-0.181730</td>\n",
              "      <td>0.130948</td>\n",
              "      <td>1.768876</td>\n",
              "      <td>0.205112</td>\n",
              "      <td>0.365448</td>\n",
              "      <td>-0.381171</td>\n",
              "      <td>0.013175</td>\n",
              "      <td>-1.769667</td>\n",
              "      <td>-2.268392</td>\n",
              "      <td>-0.183796</td>\n",
              "      <td>-0.306356</td>\n",
              "      <td>-0.240955</td>\n",
              "      <td>-0.530047</td>\n",
              "      <td>-0.249062</td>\n",
              "      <td>-0.010587</td>\n",
              "      <td>-0.685184</td>\n",
              "      <td>0.245045</td>\n",
              "      <td>0.769350</td>\n",
              "      <td>0.927227</td>\n",
              "      <td>0</td>\n",
              "      <td>1</td>\n",
              "      <td>0</td>\n",
              "      <td>0</td>\n",
              "      <td>0</td>\n",
              "      <td>0</td>\n",
              "      <td>0</td>\n",
              "      <td>0</td>\n",
              "      <td>0</td>\n",
              "      <td>0</td>\n",
              "      <td>0</td>\n",
              "      <td>0</td>\n",
              "      <td>0</td>\n",
              "      <td>0</td>\n",
              "      <td>1</td>\n",
              "      <td>0</td>\n",
              "      <td>0</td>\n",
              "      <td>1</td>\n",
              "    </tr>\n",
              "    <tr>\n",
              "      <th>16941</th>\n",
              "      <td>1.108837</td>\n",
              "      <td>-0.681462</td>\n",
              "      <td>0.057425</td>\n",
              "      <td>-0.571278</td>\n",
              "      <td>0.043142</td>\n",
              "      <td>-0.205269</td>\n",
              "      <td>-0.221040</td>\n",
              "      <td>-0.536472</td>\n",
              "      <td>1.176421</td>\n",
              "      <td>1.059458</td>\n",
              "      <td>1.187507</td>\n",
              "      <td>0.926313</td>\n",
              "      <td>0.724498</td>\n",
              "      <td>1.645239</td>\n",
              "      <td>0.471372</td>\n",
              "      <td>0.633719</td>\n",
              "      <td>-0.481122</td>\n",
              "      <td>0.182950</td>\n",
              "      <td>1.987163</td>\n",
              "      <td>2.687230</td>\n",
              "      <td>-0.778445</td>\n",
              "      <td>-0.392102</td>\n",
              "      <td>-0.759271</td>\n",
              "      <td>-0.204240</td>\n",
              "      <td>-0.423622</td>\n",
              "      <td>0.035139</td>\n",
              "      <td>-0.551397</td>\n",
              "      <td>-0.226939</td>\n",
              "      <td>0.044789</td>\n",
              "      <td>-0.089826</td>\n",
              "      <td>-0.434207</td>\n",
              "      <td>-0.000320</td>\n",
              "      <td>-0.106927</td>\n",
              "      <td>-0.137512</td>\n",
              "      <td>-0.491747</td>\n",
              "      <td>0.630911</td>\n",
              "      <td>1.194200</td>\n",
              "      <td>-0.779552</td>\n",
              "      <td>-0.149811</td>\n",
              "      <td>-0.435212</td>\n",
              "      <td>...</td>\n",
              "      <td>0.539899</td>\n",
              "      <td>0.328926</td>\n",
              "      <td>0.252932</td>\n",
              "      <td>-0.278791</td>\n",
              "      <td>0.302355</td>\n",
              "      <td>0.949634</td>\n",
              "      <td>0.206028</td>\n",
              "      <td>0.106147</td>\n",
              "      <td>-0.194943</td>\n",
              "      <td>-1.348166</td>\n",
              "      <td>-2.328506</td>\n",
              "      <td>-1.350057</td>\n",
              "      <td>-0.183439</td>\n",
              "      <td>-0.289890</td>\n",
              "      <td>-0.240538</td>\n",
              "      <td>-0.245843</td>\n",
              "      <td>-0.068124</td>\n",
              "      <td>-0.089250</td>\n",
              "      <td>1.133654</td>\n",
              "      <td>1.758325</td>\n",
              "      <td>1.127734</td>\n",
              "      <td>0.485672</td>\n",
              "      <td>0</td>\n",
              "      <td>0</td>\n",
              "      <td>0</td>\n",
              "      <td>0</td>\n",
              "      <td>0</td>\n",
              "      <td>0</td>\n",
              "      <td>0</td>\n",
              "      <td>0</td>\n",
              "      <td>1</td>\n",
              "      <td>0</td>\n",
              "      <td>0</td>\n",
              "      <td>0</td>\n",
              "      <td>0</td>\n",
              "      <td>1</td>\n",
              "      <td>0</td>\n",
              "      <td>0</td>\n",
              "      <td>1</td>\n",
              "      <td>0</td>\n",
              "    </tr>\n",
              "    <tr>\n",
              "      <th>6285</th>\n",
              "      <td>-0.981189</td>\n",
              "      <td>0.707515</td>\n",
              "      <td>-0.446401</td>\n",
              "      <td>0.685342</td>\n",
              "      <td>-1.211399</td>\n",
              "      <td>-0.467693</td>\n",
              "      <td>1.139758</td>\n",
              "      <td>-0.320792</td>\n",
              "      <td>-0.433933</td>\n",
              "      <td>-0.822646</td>\n",
              "      <td>-0.978081</td>\n",
              "      <td>-0.790834</td>\n",
              "      <td>-0.702443</td>\n",
              "      <td>-0.425674</td>\n",
              "      <td>-0.805348</td>\n",
              "      <td>-0.633857</td>\n",
              "      <td>0.909778</td>\n",
              "      <td>-0.668932</td>\n",
              "      <td>-0.925033</td>\n",
              "      <td>-0.646446</td>\n",
              "      <td>0.575104</td>\n",
              "      <td>0.032910</td>\n",
              "      <td>0.712271</td>\n",
              "      <td>-0.987686</td>\n",
              "      <td>-0.229426</td>\n",
              "      <td>0.993988</td>\n",
              "      <td>-0.165877</td>\n",
              "      <td>0.237062</td>\n",
              "      <td>-0.603239</td>\n",
              "      <td>-0.258738</td>\n",
              "      <td>0.217444</td>\n",
              "      <td>-0.860836</td>\n",
              "      <td>-0.445241</td>\n",
              "      <td>0.801606</td>\n",
              "      <td>-0.456981</td>\n",
              "      <td>-0.570190</td>\n",
              "      <td>-0.787973</td>\n",
              "      <td>0.456573</td>\n",
              "      <td>-0.726420</td>\n",
              "      <td>-0.166067</td>\n",
              "      <td>...</td>\n",
              "      <td>-0.590913</td>\n",
              "      <td>-0.505755</td>\n",
              "      <td>0.640320</td>\n",
              "      <td>-0.627194</td>\n",
              "      <td>-0.830749</td>\n",
              "      <td>-0.631640</td>\n",
              "      <td>0.231741</td>\n",
              "      <td>0.761756</td>\n",
              "      <td>0.584577</td>\n",
              "      <td>0.961455</td>\n",
              "      <td>0.851316</td>\n",
              "      <td>0.585222</td>\n",
              "      <td>-0.178567</td>\n",
              "      <td>-0.270438</td>\n",
              "      <td>-0.262696</td>\n",
              "      <td>-0.391902</td>\n",
              "      <td>-0.507973</td>\n",
              "      <td>-0.480917</td>\n",
              "      <td>-0.567967</td>\n",
              "      <td>-0.768229</td>\n",
              "      <td>-0.669268</td>\n",
              "      <td>-0.535814</td>\n",
              "      <td>0</td>\n",
              "      <td>0</td>\n",
              "      <td>0</td>\n",
              "      <td>0</td>\n",
              "      <td>0</td>\n",
              "      <td>0</td>\n",
              "      <td>0</td>\n",
              "      <td>0</td>\n",
              "      <td>1</td>\n",
              "      <td>0</td>\n",
              "      <td>0</td>\n",
              "      <td>0</td>\n",
              "      <td>0</td>\n",
              "      <td>0</td>\n",
              "      <td>1</td>\n",
              "      <td>0</td>\n",
              "      <td>0</td>\n",
              "      <td>1</td>\n",
              "    </tr>\n",
              "    <tr>\n",
              "      <th>10683</th>\n",
              "      <td>0.851596</td>\n",
              "      <td>0.320113</td>\n",
              "      <td>0.115440</td>\n",
              "      <td>-0.940536</td>\n",
              "      <td>-0.807968</td>\n",
              "      <td>-0.125931</td>\n",
              "      <td>-0.177814</td>\n",
              "      <td>-0.364183</td>\n",
              "      <td>-0.845919</td>\n",
              "      <td>0.120521</td>\n",
              "      <td>0.714210</td>\n",
              "      <td>1.841647</td>\n",
              "      <td>0.595874</td>\n",
              "      <td>0.275704</td>\n",
              "      <td>-0.439864</td>\n",
              "      <td>0.580161</td>\n",
              "      <td>-0.287153</td>\n",
              "      <td>0.408980</td>\n",
              "      <td>0.531325</td>\n",
              "      <td>1.101413</td>\n",
              "      <td>0.111894</td>\n",
              "      <td>0.440969</td>\n",
              "      <td>-0.815773</td>\n",
              "      <td>-0.568224</td>\n",
              "      <td>-0.012318</td>\n",
              "      <td>-0.974552</td>\n",
              "      <td>-0.279130</td>\n",
              "      <td>-0.260959</td>\n",
              "      <td>0.040937</td>\n",
              "      <td>-0.066727</td>\n",
              "      <td>-0.776305</td>\n",
              "      <td>-0.574291</td>\n",
              "      <td>-0.023096</td>\n",
              "      <td>-0.145670</td>\n",
              "      <td>-0.272145</td>\n",
              "      <td>-0.271937</td>\n",
              "      <td>0.316318</td>\n",
              "      <td>-0.928097</td>\n",
              "      <td>-0.636317</td>\n",
              "      <td>-0.566063</td>\n",
              "      <td>...</td>\n",
              "      <td>-0.231447</td>\n",
              "      <td>-0.195107</td>\n",
              "      <td>0.281515</td>\n",
              "      <td>-0.153908</td>\n",
              "      <td>-0.212420</td>\n",
              "      <td>0.263068</td>\n",
              "      <td>0.160224</td>\n",
              "      <td>0.269024</td>\n",
              "      <td>-0.044967</td>\n",
              "      <td>0.344712</td>\n",
              "      <td>-0.181757</td>\n",
              "      <td>-0.081950</td>\n",
              "      <td>-0.179871</td>\n",
              "      <td>-0.283975</td>\n",
              "      <td>-0.233364</td>\n",
              "      <td>-0.480629</td>\n",
              "      <td>-0.345473</td>\n",
              "      <td>-0.295589</td>\n",
              "      <td>-0.812749</td>\n",
              "      <td>-0.439005</td>\n",
              "      <td>-0.327219</td>\n",
              "      <td>-0.322121</td>\n",
              "      <td>0</td>\n",
              "      <td>0</td>\n",
              "      <td>0</td>\n",
              "      <td>0</td>\n",
              "      <td>0</td>\n",
              "      <td>0</td>\n",
              "      <td>0</td>\n",
              "      <td>0</td>\n",
              "      <td>0</td>\n",
              "      <td>0</td>\n",
              "      <td>0</td>\n",
              "      <td>1</td>\n",
              "      <td>0</td>\n",
              "      <td>0</td>\n",
              "      <td>1</td>\n",
              "      <td>0</td>\n",
              "      <td>1</td>\n",
              "      <td>0</td>\n",
              "    </tr>\n",
              "    <tr>\n",
              "      <th>17889</th>\n",
              "      <td>0.928996</td>\n",
              "      <td>-1.380675</td>\n",
              "      <td>-0.873887</td>\n",
              "      <td>-0.826037</td>\n",
              "      <td>1.122411</td>\n",
              "      <td>-0.339532</td>\n",
              "      <td>-0.505243</td>\n",
              "      <td>-0.503290</td>\n",
              "      <td>-1.486178</td>\n",
              "      <td>-0.918231</td>\n",
              "      <td>0.850513</td>\n",
              "      <td>-0.058110</td>\n",
              "      <td>-0.126187</td>\n",
              "      <td>0.668359</td>\n",
              "      <td>1.374702</td>\n",
              "      <td>0.351351</td>\n",
              "      <td>-0.579991</td>\n",
              "      <td>0.174097</td>\n",
              "      <td>0.229933</td>\n",
              "      <td>-0.203367</td>\n",
              "      <td>-1.137373</td>\n",
              "      <td>-1.261186</td>\n",
              "      <td>-0.988475</td>\n",
              "      <td>-0.205524</td>\n",
              "      <td>-0.699846</td>\n",
              "      <td>0.643648</td>\n",
              "      <td>-0.637377</td>\n",
              "      <td>-1.431243</td>\n",
              "      <td>-0.908981</td>\n",
              "      <td>-0.357488</td>\n",
              "      <td>-0.929889</td>\n",
              "      <td>-0.113700</td>\n",
              "      <td>-0.522530</td>\n",
              "      <td>0.367202</td>\n",
              "      <td>-0.734106</td>\n",
              "      <td>-1.179522</td>\n",
              "      <td>-0.942775</td>\n",
              "      <td>-0.892468</td>\n",
              "      <td>-0.019457</td>\n",
              "      <td>-0.561561</td>\n",
              "      <td>...</td>\n",
              "      <td>-0.633284</td>\n",
              "      <td>-0.511771</td>\n",
              "      <td>0.026858</td>\n",
              "      <td>-0.106487</td>\n",
              "      <td>-0.140243</td>\n",
              "      <td>-0.308719</td>\n",
              "      <td>0.188492</td>\n",
              "      <td>0.461543</td>\n",
              "      <td>0.474428</td>\n",
              "      <td>0.582987</td>\n",
              "      <td>0.671492</td>\n",
              "      <td>0.546118</td>\n",
              "      <td>-0.182930</td>\n",
              "      <td>-0.307309</td>\n",
              "      <td>-0.273252</td>\n",
              "      <td>-0.599310</td>\n",
              "      <td>-0.574976</td>\n",
              "      <td>-0.494238</td>\n",
              "      <td>-1.075978</td>\n",
              "      <td>-0.924077</td>\n",
              "      <td>-0.696724</td>\n",
              "      <td>-0.539749</td>\n",
              "      <td>0</td>\n",
              "      <td>0</td>\n",
              "      <td>0</td>\n",
              "      <td>1</td>\n",
              "      <td>0</td>\n",
              "      <td>0</td>\n",
              "      <td>0</td>\n",
              "      <td>0</td>\n",
              "      <td>0</td>\n",
              "      <td>0</td>\n",
              "      <td>0</td>\n",
              "      <td>0</td>\n",
              "      <td>0</td>\n",
              "      <td>1</td>\n",
              "      <td>0</td>\n",
              "      <td>0</td>\n",
              "      <td>1</td>\n",
              "      <td>0</td>\n",
              "    </tr>\n",
              "  </tbody>\n",
              "</table>\n",
              "<p>5 rows × 303 columns</p>\n",
              "</div>"
            ],
            "text/plain": [
              "       acousticness^1  danceability^1  ...  mode_Major  mode_Minor\n",
              "17786        1.106560       -0.582249  ...           0           1\n",
              "16941        1.108837       -0.681462  ...           1           0\n",
              "6285        -0.981189        0.707515  ...           0           1\n",
              "10683        0.851596        0.320113  ...           1           0\n",
              "17889        0.928996       -1.380675  ...           1           0\n",
              "\n",
              "[5 rows x 303 columns]"
            ]
          },
          "metadata": {
            "tags": []
          },
          "execution_count": 8
        }
      ]
    },
    {
      "cell_type": "markdown",
      "metadata": {
        "id": "hbFFOWwHkAMK"
      },
      "source": [
        "# **Binary Models**"
      ]
    },
    {
      "cell_type": "markdown",
      "metadata": {
        "id": "GXMm8CjykB3-"
      },
      "source": [
        "Please train and evaluate your binary models here. Execute all the previous cells before. In particular be sure you select the 2 genres/classes you want to classify in the section \"Select a Subset of Genres\"\n",
        "\n",
        "Train binary SVMs to classify the Classical music from Electronic music. In particular.\n",
        "\n",
        "1. Train a linear soft-margin SVM selecting the optimal value of the regularization parameter  𝐶 .\n",
        "2. Train a non-linear SVM selecting a good kernel.\n",
        "3. Evaluate the classifiers giving an estimate of their prediction error.\n",
        "4. Assess the effect of the different audio attributes in the decisions of your model."
      ]
    },
    {
      "cell_type": "markdown",
      "metadata": {
        "id": "RGuXsHlkkgEB"
      },
      "source": [
        "1.   Train a linear soft-margin SVM selecting the optimal value of the regularization parameter $C$."
      ]
    },
    {
      "cell_type": "markdown",
      "metadata": {
        "id": "Dioigo7kg34T"
      },
      "source": [
        "To check for the optimal value of C we can use a for-loop as done in \"BBS21_SVM_hard_vs_soft.ipynb\" notebook:"
      ]
    },
    {
      "cell_type": "markdown",
      "metadata": {
        "id": "eEK-MmWwg34b"
      },
      "source": [
        "## Selecting best parameters for Linear SVM with GridSearchCV:"
      ]
    },
    {
      "cell_type": "code",
      "metadata": {
        "colab": {
          "base_uri": "https://localhost:8080/",
          "height": 249
        },
        "id": "oMEDWc7Hg34c",
        "outputId": "747afdb1-c912-47f3-e2ba-de4c4143e8d2"
      },
      "source": [
        "from sklearn.model_selection import GridSearchCV\n",
        "from sklearn.svm import SVC\n",
        "base = SVC()\n",
        "\n",
        "grid_values = {'C': np.logspace(-10, 5, num=32, endpoint=True, base=2.0), 'kernel':['linear']}\n",
        "grid_search_svc = GridSearchCV(base, param_grid = grid_values, scoring = 'accuracy', cv=5)\n",
        "#Fitting the model\n",
        "print(\"Fitting the model: \")\n",
        "print(\"\\n\")\n",
        "grid_search_svc.fit(X_train, y_train)\n",
        "# Extracting best params\n",
        "best_params = grid_search_svc.best_params_\n",
        "\n",
        "print(\"The best params are: \", best_params)\n"
      ],
      "execution_count": null,
      "outputs": [
        {
          "output_type": "error",
          "ename": "NameError",
          "evalue": "ignored",
          "traceback": [
            "\u001b[0;31m---------------------------------------------------------------------------\u001b[0m",
            "\u001b[0;31mNameError\u001b[0m                                 Traceback (most recent call last)",
            "\u001b[0;32m<ipython-input-2-ac74ef4ecf6a>\u001b[0m in \u001b[0;36m<module>\u001b[0;34m()\u001b[0m\n\u001b[1;32m      3\u001b[0m \u001b[0mbase\u001b[0m \u001b[0;34m=\u001b[0m \u001b[0mSVC\u001b[0m\u001b[0;34m(\u001b[0m\u001b[0;34m)\u001b[0m\u001b[0;34m\u001b[0m\u001b[0;34m\u001b[0m\u001b[0m\n\u001b[1;32m      4\u001b[0m \u001b[0;34m\u001b[0m\u001b[0m\n\u001b[0;32m----> 5\u001b[0;31m \u001b[0mgrid_values\u001b[0m \u001b[0;34m=\u001b[0m \u001b[0;34m{\u001b[0m\u001b[0;34m'C'\u001b[0m\u001b[0;34m:\u001b[0m \u001b[0mnp\u001b[0m\u001b[0;34m.\u001b[0m\u001b[0mlogspace\u001b[0m\u001b[0;34m(\u001b[0m\u001b[0;34m-\u001b[0m\u001b[0;36m10\u001b[0m\u001b[0;34m,\u001b[0m \u001b[0;36m5\u001b[0m\u001b[0;34m,\u001b[0m \u001b[0mnum\u001b[0m\u001b[0;34m=\u001b[0m\u001b[0;36m32\u001b[0m\u001b[0;34m,\u001b[0m \u001b[0mendpoint\u001b[0m\u001b[0;34m=\u001b[0m\u001b[0;32mTrue\u001b[0m\u001b[0;34m,\u001b[0m \u001b[0mbase\u001b[0m\u001b[0;34m=\u001b[0m\u001b[0;36m2.0\u001b[0m\u001b[0;34m)\u001b[0m\u001b[0;34m,\u001b[0m \u001b[0;34m'kernel'\u001b[0m\u001b[0;34m:\u001b[0m\u001b[0;34m[\u001b[0m\u001b[0;34m'linear'\u001b[0m\u001b[0;34m]\u001b[0m\u001b[0;34m}\u001b[0m\u001b[0;34m\u001b[0m\u001b[0;34m\u001b[0m\u001b[0m\n\u001b[0m\u001b[1;32m      6\u001b[0m \u001b[0mgrid_search_svc\u001b[0m \u001b[0;34m=\u001b[0m \u001b[0mGridSearchCV\u001b[0m\u001b[0;34m(\u001b[0m\u001b[0mbase\u001b[0m\u001b[0;34m,\u001b[0m \u001b[0mparam_grid\u001b[0m \u001b[0;34m=\u001b[0m \u001b[0mgrid_values\u001b[0m\u001b[0;34m,\u001b[0m \u001b[0mscoring\u001b[0m \u001b[0;34m=\u001b[0m \u001b[0;34m'accuracy'\u001b[0m\u001b[0;34m,\u001b[0m \u001b[0mcv\u001b[0m\u001b[0;34m=\u001b[0m\u001b[0;36m5\u001b[0m\u001b[0;34m)\u001b[0m\u001b[0;34m\u001b[0m\u001b[0;34m\u001b[0m\u001b[0m\n\u001b[1;32m      7\u001b[0m \u001b[0;31m#Fitting the model\u001b[0m\u001b[0;34m\u001b[0m\u001b[0;34m\u001b[0m\u001b[0;34m\u001b[0m\u001b[0m\n",
            "\u001b[0;31mNameError\u001b[0m: name 'np' is not defined"
          ]
        }
      ]
    },
    {
      "cell_type": "markdown",
      "metadata": {
        "id": "RehJDW9Sg34q"
      },
      "source": [
        "Will therefore initialize a new model with the optimal parameters found above:"
      ]
    },
    {
      "cell_type": "code",
      "metadata": {
        "id": "BudYQWJtg340"
      },
      "source": [
        "from sklearn.metrics import confusion_matrix, plot_confusion_matrix, precision_recall_fscore_support\n",
        "\n",
        "svm = SVC(kernel='linear', C=0.00522)\n",
        "svm.fit(X_train, y_train)\n",
        "\n",
        "w = svm.coef_[0]\n",
        "b = svm.intercept_[0]\n",
        "margin = 1 / np.sqrt(w[0]**2+w[1]**2)\n",
        "\n",
        "\n",
        "y_best_preds = svm.predict(X_test)"
      ],
      "execution_count": null,
      "outputs": []
    },
    {
      "cell_type": "code",
      "metadata": {
        "id": "orlZstH7g341",
        "outputId": "584813fb-3605-4777-d535-43a8bfc2d58e"
      },
      "source": [
        "plt.figure(figsize=(10,6))\n",
        "plot_confusion_matrix(svm, X_test, y_test, display_labels=selected_genres)"
      ],
      "execution_count": null,
      "outputs": [
        {
          "output_type": "execute_result",
          "data": {
            "text/plain": [
              "<sklearn.metrics._plot.confusion_matrix.ConfusionMatrixDisplay at 0x7fdb8157afa0>"
            ]
          },
          "metadata": {
            "tags": []
          },
          "execution_count": 80
        },
        {
          "output_type": "display_data",
          "data": {
            "text/plain": [
              "<Figure size 720x432 with 0 Axes>"
            ]
          },
          "metadata": {
            "tags": []
          }
        },
        {
          "output_type": "display_data",
          "data": {
            "image/png": "[encoded data removed]",
            "text/plain": [
              "<Figure size 432x288 with 2 Axes>"
            ]
          },
          "metadata": {
            "tags": []
          }
        }
      ]
    },
    {
      "cell_type": "markdown",
      "metadata": {
        "id": "xdgwX69Bg343"
      },
      "source": [
        "Will calculate the accuracy manually:\n",
        "    \n",
        "    Accuracy = TP + TN / (TP + FN + TN + FP)\n",
        "    \n",
        "    Accuracy = (4290 + 4482) / (4290 + 4482 + 167 + 378)\n",
        "    \n",
        "The accuracy of the linear model is 0.9414 or **94,14%**"
      ]
    },
    {
      "cell_type": "code",
      "metadata": {
        "id": "sQWJUGI1g347",
        "outputId": "d46e72ad-5e57-4b88-c130-b7d146b6c71d"
      },
      "source": [
        "print(\"w: \", w)\n",
        "print(\"b: \", b)\n",
        "print(\"\\n+ CLASS:\", np.sum(y_train==svm.classes_[1])/len(y_train))\n",
        "print(\"- CLASS:\", np.sum(y_train==svm.classes_[0])/len(y_train))\n",
        "\n",
        "import matplotlib.pyplot as plt\n",
        "fig, ax = plt.subplots(figsize=(10,10))\n",
        "var_idx = range(0,len(w))\n",
        "ax.barh(var_idx, w, align='center')\n",
        "ax.set_yticks(var_idx)\n",
        "ax.set_yticklabels(X.columns)\n",
        "plt.title(\"SVM Weights\")\n",
        "plt.show()"
      ],
      "execution_count": null,
      "outputs": [
        {
          "output_type": "stream",
          "text": [
            "w:  [-0.75458163  0.62759552  0.00273116  0.22105934  0.11683191 -0.01545124\n",
            "  0.32093713  0.02403869  0.04690506 -0.15280073 -0.01527151  0.04197095\n",
            "  0.03042079  0.03883981  0.0478755  -0.07729147 -0.03132    -0.07428905\n",
            "  0.02088    -0.00522     0.02340499  0.         -0.03064652 -0.04023137\n",
            "  0.02046506  0.05041283 -0.05692547  0.05692547]\n",
            "b:  0.07623068153399185\n",
            "\n",
            "+ CLASS: 0.5075139544869043\n",
            "- CLASS: 0.49248604551309577\n"
          ],
          "name": "stdout"
        },
        {
          "output_type": "display_data",
          "data": {
            "image/png": "[encoded data removed]",
            "text/plain": [
              "<Figure size 720x720 with 1 Axes>"
            ]
          },
          "metadata": {
            "tags": []
          }
        }
      ]
    },
    {
      "cell_type": "markdown",
      "metadata": {
        "id": "A3e6F6UHg349"
      },
      "source": [
        "## Observations on Linear SVC feature weights:"
      ]
    },
    {
      "cell_type": "markdown",
      "metadata": {
        "id": "t5_bk_qEg349"
      },
      "source": [
        "The previous bar chart of the feature weights allows to observe that in determining wether a track is Electronic or Classical there are two main contributors to the model: *acousticness* (with a negative weight) and *danceability*. In this case it is clear that **Electronic** is defined by *danceability, loudness and energy* while **Classical** is mainly characterized as *very acoustic and with more valence*. "
      ]
    },
    {
      "cell_type": "markdown",
      "metadata": {
        "id": "gSpcpBDfg34-"
      },
      "source": [
        "## Finding best parameters for Non-Linear SVM with GridSearchCV:"
      ]
    },
    {
      "cell_type": "code",
      "metadata": {
        "id": "2lmLBtz7g34-",
        "outputId": "1c4a1a37-bcd1-401d-eb1d-745b3159acd1"
      },
      "source": [
        "from sklearn.model_selection import GridSearchCV\n",
        "base = SVC()\n",
        "\n",
        "grid_values = {'C': np.logspace(-10, 5, num=32, endpoint=True, base=2.0), 'kernel': ['rbf','poly', 'sigmoid'], 'gamma':[0.001, 0.01]}\n",
        "grid_search_svc = GridSearchCV(base, param_grid = grid_values, scoring = 'accuracy', cv=5)\n",
        "#Fitting the model\n",
        "print(\"Fitting the model: \")\n",
        "print(\"\\n\")\n",
        "grid_search_svc.fit(X_train, y_train)\n",
        "# Extracting best params\n",
        "best_params = grid_search_svc.best_params_\n",
        "\n",
        "print(\"The best params are: \", best_params)\n"
      ],
      "execution_count": null,
      "outputs": [
        {
          "output_type": "stream",
          "text": [
            "Fitting the model: \n",
            "\n",
            "\n",
            "The best params are:  {'C': 32.0, 'gamma': 0.01, 'kernel': 'rbf'}\n"
          ],
          "name": "stdout"
        }
      ]
    },
    {
      "cell_type": "markdown",
      "metadata": {
        "id": "lk7w5wnwg34_"
      },
      "source": [
        "## Initializing Non-Linear SVM with the best parameters"
      ]
    },
    {
      "cell_type": "code",
      "metadata": {
        "id": "Km3UYLSCg34_",
        "outputId": "00137c67-77e9-498a-85bd-4feddfb14b2c"
      },
      "source": [
        "from sklearn.svm import SVC\n",
        "\n",
        "nonlin_svc = SVC(C=10, kernel='rbf') # using non-linear kernel\n",
        "nonlin_svc.fit(X_train, y_train) # training the model\n",
        "\n",
        "y_pred_train_nl = nonlin_svc.predict(X_train)\n",
        "y_pred_test_nl = nonlin_svc.predict(X_test)\n",
        "\n",
        "print(\"\\n\")\n",
        "\n",
        "print(\"Accuracy Train: %.2f\"%(np.sum(y_pred_train_nl==y_train)/len(y_train)))\n",
        "print(\"Accuracy Test: %.2f\"%(np.sum(y_pred_val_nl==y_val)/len(y_val)))\n",
        "\n",
        "print(\"\\n\")"
      ],
      "execution_count": null,
      "outputs": [
        {
          "output_type": "stream",
          "text": [
            "\n",
            "\n",
            "Accuracy Train: 0.96\n",
            "Accuracy Validation: 0.94\n",
            "\n",
            "\n"
          ],
          "name": "stdout"
        }
      ]
    },
    {
      "cell_type": "markdown",
      "metadata": {
        "id": "FaK79Vhkg35A"
      },
      "source": [
        "To find the optimal type of non-linear kernel and regularization C parameter will do a Grid Search:"
      ]
    },
    {
      "cell_type": "code",
      "metadata": {
        "id": "q_iVEirsg35A",
        "outputId": "d45bdaa5-067a-4156-a5c0-f32965facfdf"
      },
      "source": [
        "from sklearn.model_selection import GridSearchCV\n",
        "from sklearn.svm import SVC\n",
        "\n",
        "base = SVC()\n",
        "\n",
        "grid_values = {'kernel': ['poly', 'rbf'],\n",
        "               'C': [0.001,0.01,0.1,1,10],\n",
        "              }\n",
        "grid_search_svc = GridSearchCV(base, param_grid = grid_values, scoring = 'accuracy')\n",
        "#Fitting the model\n",
        "print(\"Fitting the model: \")\n",
        "print(\"\\n\")\n",
        "grid_search_svc.fit(X_train, y_train)\n",
        "# Extracting best params\n",
        "best_params = grid_search_svc.best_params_\n",
        "\n",
        "print(\"The best params are: \", best_params)\n"
      ],
      "execution_count": null,
      "outputs": [
        {
          "output_type": "stream",
          "text": [
            "Fitting the model: \n",
            "\n",
            "\n",
            "The best params are:  {'C': 10, 'kernel': 'rbf'}\n"
          ],
          "name": "stdout"
        }
      ]
    },
    {
      "cell_type": "markdown",
      "metadata": {
        "id": "bKhK_ydIg35B"
      },
      "source": [
        "Will therefore use the previous information to train a new model with the optimal parameters found:"
      ]
    },
    {
      "cell_type": "code",
      "metadata": {
        "id": "Jd0TRSuxg35B",
        "outputId": "c9ae78b8-ca9f-45df-8276-6dc399d96923"
      },
      "source": [
        "best_nl_svc = SVC(kernel='rbf', C=10)\n",
        "best_nl_svc.fit(X_train, y_train)\n",
        "\n",
        "best_train_preds = best_nl_svc.predict(X_train)\n",
        "best_test_preds = best_nl_svc.predict(X_test)\n",
        "\n",
        "print(\"Accuracy Train: %.2f\"%(np.sum(best_train_preds==y_train)/len(y_train)))\n",
        "print(\"Accuracy Test: %.2f\"%(np.sum(best_test_preds==y_test)/len(y_test)))"
      ],
      "execution_count": null,
      "outputs": [
        {
          "output_type": "stream",
          "text": [
            "Accuracy Train: 0.97\n",
            "Accuracy Test: 0.95\n"
          ],
          "name": "stdout"
        }
      ]
    },
    {
      "cell_type": "markdown",
      "metadata": {
        "id": "QkOZyvSZg35C"
      },
      "source": [
        "The confusion matrix for the test set is:"
      ]
    },
    {
      "cell_type": "code",
      "metadata": {
        "id": "FAHTYDIDg35C",
        "outputId": "c63dd13e-18ca-48e5-dedf-2e486d1925dd"
      },
      "source": [
        "from sklearn.metrics import plot_confusion_matrix\n",
        "\n",
        "plot_confusion_matrix(best_nl_svc, X_test, y_test, display_labels=selected_genres)"
      ],
      "execution_count": null,
      "outputs": [
        {
          "output_type": "execute_result",
          "data": {
            "text/plain": [
              "<sklearn.metrics._plot.confusion_matrix.ConfusionMatrixDisplay at 0x7fdb8267adf0>"
            ]
          },
          "metadata": {
            "tags": []
          },
          "execution_count": 52
        },
        {
          "output_type": "display_data",
          "data": {
            "image/png": "[encoded data removed]",
            "text/plain": [
              "<Figure size 432x288 with 2 Axes>"
            ]
          },
          "metadata": {
            "tags": []
          }
        }
      ]
    },
    {
      "cell_type": "markdown",
      "metadata": {
        "id": "zrigNbu8g35C"
      },
      "source": [
        "The SVM does pretty well at predicting both Classical and Electronic genres with only about 5% of the data misclassified by the model. "
      ]
    },
    {
      "cell_type": "markdown",
      "metadata": {
        "id": "IAAvDisUdmLa"
      },
      "source": [
        "# **Support for Multiples Clases**"
      ]
    },
    {
      "cell_type": "markdown",
      "metadata": {
        "id": "EdzWhuGmkW2x"
      },
      "source": [
        "Here I provide some basic code to handle multiple classes. Execute all the previous in the sections \"Data\", \"Data Download\" and \"Exploratory Data Analysis\". In particular be sure you select the genres/classes you want to classify in the section \"Select a Subset of Genres\""
      ]
    },
    {
      "cell_type": "markdown",
      "metadata": {
        "id": "RyQeFarRnRBS"
      },
      "source": [
        "**Activities:**\n",
        "\n",
        "Train SVMs to classify songs of the following 5 genres: Classical, Electronic,  Jazz,  Rock,  Rap.\n",
        "\n",
        "1.   Use a linear soft-margin SVM selecting the optimal value of the regularization parameter $C$.\n",
        "2.   Use a non-linear SVM selecting a good kernel.\n",
        "3.   Evaluate the classifiers estimating the confusion matrix.\n",
        "4.   Plot the weight of the different audio attributes for each binary sub-model. Discuss the results. \n"
      ]
    },
    {
      "cell_type": "markdown",
      "metadata": {
        "id": "BAcikXYri8um"
      },
      "source": [
        "### OVR (One versus the Rest)"
      ]
    },
    {
      "cell_type": "code",
      "metadata": {
        "id": "EE8V4YkGg35E",
        "outputId": "e0ab73a4-0276-4887-b0df-58d71f804bf8"
      },
      "source": [
        "from sklearn.multiclass import OneVsRestClassifier\n",
        "from sklearn.metrics import plot_confusion_matrix\n",
        "from sklearn.metrics import precision_recall_curve, auc, average_precision_score\n",
        "from sklearn.metrics import f1_score, recall_score, precision_score\n",
        "\n",
        "model_to_set = SVC(decision_function_shape='ovr')\n",
        "\n",
        "grid_values = {'kernel': ['linear'], 'C':[0.001,0.01,0.1,1,10]}\n",
        "\n",
        "grid_search_ovr = GridSearchCV(model_to_set, param_grid = grid_values, scoring = 'accuracy')\n",
        "\n",
        "#Fitting the model\n",
        "print(\"Fitting the model: \")\n",
        "print(\"\\n\")\n",
        "grid_search_ovr.fit(X_train, y_train)\n",
        "# Extracting best params\n",
        "best_params = grid_search_ovr.best_params_\n",
        "\n",
        "print(\"The best params are: \", best_params)\n"
      ],
      "execution_count": null,
      "outputs": [
        {
          "output_type": "stream",
          "text": [
            "Fitting the model: \n",
            "\n",
            "\n",
            "The best params are:  {'C': 10, 'kernel': 'linear'}\n"
          ],
          "name": "stdout"
        }
      ]
    },
    {
      "cell_type": "markdown",
      "metadata": {
        "id": "1Mwv3MUyg35E"
      },
      "source": [
        "Having found the best parameters for the OVR go ahead and initialize a new OVR classifier:\n",
        "\n",
        "**As we have been working with Cross-Validation, will leave the validation steps out**"
      ]
    },
    {
      "cell_type": "code",
      "metadata": {
        "colab": {
          "base_uri": "https://localhost:8080/",
          "height": 829
        },
        "id": "TIZ-zYNxd-ms",
        "outputId": "ffa709a2-1997-476f-bb3d-f8f35417554a"
      },
      "source": [
        "from sklearn.multiclass import OneVsRestClassifier\n",
        "from sklearn.metrics import plot_confusion_matrix\n",
        "from sklearn.metrics import precision_recall_curve, auc, average_precision_score\n",
        "from sklearn.metrics import f1_score, recall_score, precision_score\n",
        "\n",
        "from sklearn.svm import SVC\n",
        "base = SVC(kernel='linear', C=10)\n",
        "\n",
        "n_classes = len(np.unique(y_train))\n",
        "MAX_INT = np.iinfo(np.int32).max\n",
        "\n",
        "print(\"N CLASSES = %d\\n\"%n_classes)\n",
        "\n",
        "clf = OneVsRestClassifier(base).fit(X_train.values, y_train.values)\n",
        "\n",
        "train_acc = clf.score(X_train.values, y_train.values)\n",
        "# val_acc = clf.score(X_val.values, y_val.values)\n",
        "test_acc = clf.score(X_test.values, y_test.values)\n",
        "\n",
        "print(\"\\nTrain/Val/Test Accuracy Multiclass (via OVR)\\n\")\n",
        "print(train_acc, test_acc)\n",
        "\n",
        "print(\"\\n\")\n",
        "fig, ax = plt.subplots(figsize=(10, 10))\n",
        "labels = [number_to_genre[clf.classes_[idx]] for idx in range(n_classes)]\n",
        "disp = plot_confusion_matrix(clf, X_test.values,y_test.values, display_labels=labels, cmap=plt.cm.Blues,normalize='true',ax=ax)\n",
        "disp.ax_.set_title(\"confusion BNB + Binary\")\n",
        "\n",
        "print(disp.confusion_matrix)\n",
        "\n",
        "\n",
        "y_pred_test = clf.predict(X_test.values)\n",
        "macro_prec = precision_score(y_test, y_pred_test, average='macro')\n",
        "micro_prec = precision_score(y_test, y_pred_test, average='micro')\n",
        "\n",
        "macro_recall = recall_score(y_test, y_pred_test, average='macro')\n",
        "micro_recall = recall_score(y_test, y_pred_test, average='micro')\n",
        "\n",
        "macro_f1 = f1_score(y_test, y_pred_test, average='macro')\n",
        "micro_f1 = f1_score(y_test, y_pred_test, average='micro')\n",
        "\n",
        "print(\"\\n\")\n",
        "print(\"Precision (Macro, Micro)\", macro_prec, micro_prec)\n",
        "print(\"Recall (Macro, Micro)\", macro_recall, micro_recall)\n",
        "print(\"F1 (Macro, Micro)\", macro_f1, micro_f1)\n"
      ],
      "execution_count": null,
      "outputs": [
        {
          "output_type": "stream",
          "text": [
            "N CLASSES = 5\n",
            "\n",
            "\n",
            "Train/Val/Test Accuracy Multiclass (via OVR)\n",
            "\n",
            "0.6441238352870454 0.6392288204731847\n",
            "\n",
            "\n",
            "[[0.80623365 0.14363557 0.01569311 0.03291194 0.00152572]\n",
            " [0.09190466 0.76830578 0.04187245 0.06764011 0.030277  ]\n",
            " [0.13602015 0.20759866 0.18975651 0.26049538 0.2061293 ]\n",
            " [0.20347714 0.18737927 0.03391286 0.54732775 0.02790298]\n",
            " [0.00541008 0.04847436 0.01060377 0.03613936 0.89937243]]\n",
            "\n",
            "\n",
            "Precision (Macro, Micro) 0.6418358931471921 0.6392288204731847\n",
            "Recall (Macro, Micro) 0.6421992238684123 0.6392288204731847\n",
            "F1 (Macro, Micro) 0.610294448184171 0.6392288204731847\n"
          ],
          "name": "stdout"
        },
        {
          "output_type": "display_data",
          "data": {
            "image/png": "[encoded data removed]",
            "text/plain": [
              "<Figure size 720x720 with 2 Axes>"
            ]
          },
          "metadata": {
            "tags": []
          }
        }
      ]
    },
    {
      "cell_type": "markdown",
      "metadata": {
        "id": "5JqVAJtog35F"
      },
      "source": [
        "Apparently it is very hard for the SVM to predict the Jazz genre. This makes sense as it is characterized by diverse time signatures, key and other variables."
      ]
    },
    {
      "cell_type": "markdown",
      "metadata": {
        "id": "xwrFxpH1oTuh"
      },
      "source": [
        "\n",
        "#### Feature Weights\n"
      ]
    },
    {
      "cell_type": "code",
      "metadata": {
        "colab": {
          "base_uri": "https://localhost:8080/",
          "height": 661
        },
        "id": "RYlJPbVAoDSf",
        "outputId": "97b24c78-e692-4e27-fd7b-c496d381bd89"
      },
      "source": [
        "from sklearn.svm import SVC\n",
        "\n",
        "n_classes = len(np.unique(y_train))\n",
        "MAX_INT = np.iinfo(np.int32).max\n",
        "\n",
        "print(\"\\nCoefficients SVM + OVR\\n\")\n",
        "\n",
        "base = SVC(kernel='linear', C=1)\n",
        "clf = OneVsRestClassifier(base).fit(X_train.values, y_train.values)\n",
        "\n",
        "fig, axes = plt.subplots(figsize=(15,10),nrows=1,ncols=len(clf.estimators_),sharex=False,sharey=True,squeeze=False)\n",
        "\n",
        "for idx,estimator in enumerate(clf.estimators_):\n",
        "  w = estimator.coef_\n",
        "  b = estimator.intercept_\n",
        "\n",
        "  max_feat = min(len(w[0,:]),30)\n",
        "\n",
        "  sns.barplot(y=np.arange(max_feat),x=w[0,:max_feat],palette=\"rocket\",ax=axes[0,idx%5],orient=\"h\")\n",
        "  axes[0,idx%5].set_yticklabels(X.columns[:max_feat])\n",
        "  axes[0,idx%5].set_title('%s'%number_to_genre[clf.classes_[idx]])\n",
        "  \n",
        "plt.show()\n"
      ],
      "execution_count": null,
      "outputs": [
        {
          "output_type": "stream",
          "text": [
            "\n",
            "Coefficients SVM + OVR\n",
            "\n"
          ],
          "name": "stdout"
        },
        {
          "output_type": "display_data",
          "data": {
            "image/png": "[encoded data removed]",
            "text/plain": [
              "<Figure size 1080x720 with 5 Axes>"
            ]
          },
          "metadata": {
            "tags": []
          }
        }
      ]
    },
    {
      "cell_type": "markdown",
      "metadata": {
        "id": "M8NeKQUJg35F"
      },
      "source": [
        "## Observations on Multiclass Linear OVR feature weights:"
      ]
    },
    {
      "cell_type": "markdown",
      "metadata": {
        "id": "-w5DEALCg35G"
      },
      "source": [
        "In this case we can consider the weights of the model as the importance of the features in determining the genre. For **electronic** music for example we can see how *energy and instrumentalness* as well as *danceability* are the three more contributing variables. What the model seems to consider uncharacteristic of electronic music (given the negative weights it assigned) is acousticness and valence, which holds true in real-life. "
      ]
    },
    {
      "cell_type": "markdown",
      "metadata": {
        "id": "7JKv9IPig35G"
      },
      "source": [
        "## Will use the OVO classifier to address the case of Non-Linear SVM by first finding an optimal C parameter:"
      ]
    },
    {
      "cell_type": "code",
      "metadata": {
        "id": "RZ_HMY38g35G",
        "outputId": "05c345e4-f2c9-427e-f970-a6efd5e88118"
      },
      "source": [
        "from sklearn.multiclass import OneVsOneClassifier\n",
        "from sklearn.metrics import f1_score, recall_score, precision_score\n",
        "\n",
        "model_to_set = SVC(decision_function_shape='ovo')\n",
        "\n",
        "grid_values = {'kernel': ['rbf', 'poly'], 'C':[0.001,0.01,0.1,1,10]}\n",
        "\n",
        "grid_search_ovo = GridSearchCV(model_to_set, param_grid = grid_values, scoring = 'accuracy')\n",
        "\n",
        "#Fitting the model\n",
        "print(\"Fitting the model: \")\n",
        "print(\"\\n\")\n",
        "grid_search_ovo.fit(X_train, y_train)\n",
        "# Extracting best params\n",
        "best_params = grid_search_ovo.best_params_\n",
        "\n",
        "print(\"The best params are: \", best_params)\n"
      ],
      "execution_count": null,
      "outputs": [
        {
          "output_type": "stream",
          "text": [
            "Fitting the model: \n",
            "\n",
            "\n",
            "The best params are:  {'C': 1, 'kernel': 'rbf'}\n"
          ],
          "name": "stdout"
        }
      ]
    },
    {
      "cell_type": "markdown",
      "metadata": {
        "id": "Og12bIzQjDwU"
      },
      "source": [
        "## OVO (One versus One)"
      ]
    },
    {
      "cell_type": "code",
      "metadata": {
        "id": "Ib9DEnkSv0-U",
        "outputId": "4c789607-0b82-4022-cf29-8bd7bbce1c60"
      },
      "source": [
        "from sklearn.multiclass import OneVsOneClassifier\n",
        "from sklearn.metrics import f1_score, recall_score, precision_score\n",
        "\n",
        "n_classes = len(np.unique(y_train))\n",
        "MAX_INT = np.iinfo(np.int32).max\n",
        "\n",
        "base = SVC(kernel='rbf', C=1)\n",
        "clf = OneVsOneClassifier(base).fit(X_train.values, y_train.values)\n",
        "\n",
        "train_acc = clf.score(X_train.values, y_train.values)\n",
        "# val_acc = clf.score(X_val.values, y_val.values)\n",
        "test_acc = clf.score(X_test.values, y_test.values)\n",
        "\n",
        "print(train_acc,test_acc)\n",
        "print(\" ---- \")\n",
        "\n",
        "print(\"\\n\")\n",
        "fig, ax = plt.subplots(figsize=(10, 10))\n",
        "labels = [number_to_genre[clf.classes_[idx]] for idx in range(n_classes)]\n",
        "disp = plot_confusion_matrix(clf, X_test.values,y_test.values, display_labels=labels, cmap=plt.cm.Blues,normalize='true',ax=ax)\n",
        "disp.ax_.set_title(\"confusion BNB + Binary\")\n",
        "\n",
        "#print(disp.confusion_matrix)\n",
        "\n",
        "y_pred_test = clf.predict(X_test.values)\n",
        "macro_prec = precision_score(y_test, y_pred_test, average='macro')\n",
        "micro_prec = precision_score(y_test, y_pred_test, average='micro')\n",
        "\n",
        "macro_recall = recall_score(y_test, y_pred_test, average='macro')\n",
        "micro_recall = recall_score(y_test, y_pred_test, average='micro')\n",
        "\n",
        "macro_f1 = f1_score(y_test, y_pred_test, average='macro')\n",
        "micro_f1 = f1_score(y_test, y_pred_test, average='micro')\n",
        "\n",
        "print(\"\\n\")\n",
        "print(\"Precision (Macro, Micro)\", macro_prec, micro_prec)\n",
        "print(\"Recall (Macro, Micro)\", macro_recall, micro_recall)\n",
        "print(\"F1 (Macro, Micro)\", macro_f1, micro_f1)"
      ],
      "execution_count": null,
      "outputs": [
        {
          "output_type": "stream",
          "text": [
            "0.7455021684056851 0.7215852977800679\n",
            " ---- \n",
            "\n",
            "\n",
            "\n",
            "\n",
            "Precision (Macro, Micro) 0.7245146892888747 0.7215852977800679\n",
            "Recall (Macro, Micro) 0.7225511089910985 0.7215852977800679\n",
            "F1 (Macro, Micro) 0.7215233059375801 0.7215852977800679\n"
          ],
          "name": "stdout"
        },
        {
          "output_type": "display_data",
          "data": {
            "image/png": "[encoded data removed]",
            "text/plain": [
              "<Figure size 720x720 with 2 Axes>"
            ]
          },
          "metadata": {
            "tags": []
          }
        }
      ]
    },
    {
      "cell_type": "markdown",
      "metadata": {
        "id": "fYgoNRmig35I"
      },
      "source": [
        "In this case we can see a higher accuracy with respect to the OneVsRest linear model. This is likely attributed to the model being better able to predict the Jazz genre, improving from 0.19 correct predictions to 0.6 correct predictions. \n",
        "\n",
        "Feature weights on the other hand cannot be calculated with a Non-linear approach. a"
      ]
    },
    {
      "cell_type": "markdown",
      "metadata": {
        "id": "jNt65IN-g35I"
      },
      "source": [
        "## Conclusions"
      ]
    },
    {
      "cell_type": "markdown",
      "metadata": {
        "id": "sD5iGhbIg35I"
      },
      "source": [
        "The linear SVC was able to classify very well the two selected genres ['Classical', 'Electronic'] with a 94% accuracy. A non-linear SVM obtained a slightly better accuracy of 95%.  To achieve this, the best C parameter was found through Cross Validation to be very near to zero in the case of linear SVM and of 10 when using non-linear kernels. \n",
        "\n",
        "The **main features** in determining classical music where acousticness and valence. In the case of Electronic music they were danceability, loudness and energy. In other words, the model was able to detect this pattern in the training data, which being large enough was able to give a representative input of these genres. \n",
        "\n",
        "Moreover, in the multiclass case the **linear OVR** obtained a much lower accuracy of 63.9%. It is relevant to point out that the model found specially difficult to classify the Jazz genre with only 19% of correct predictions. The **non-linear OVO** performed better with accuracy of 72.15% driven by the model's better ability to classify the Jazz genre. "
      ]
    },
    {
      "cell_type": "code",
      "metadata": {
        "id": "SQmL4JckbbHr"
      },
      "source": [
        ""
      ],
      "execution_count": null,
      "outputs": []
    }
  ]
}